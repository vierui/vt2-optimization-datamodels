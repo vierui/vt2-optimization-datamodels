{
 "cells": [
  {
   "cell_type": "code",
   "execution_count": 1,
   "metadata": {},
   "outputs": [],
   "source": [
    "import numpy as np\n",
    "import pandas as pd\n",
    "import matplotlib.pyplot as plt\n",
    "from sklearn.gaussian_process import GaussianProcessRegressor\n",
    "from sklearn.gaussian_process.kernels import ExpSineSquared, RBF, WhiteKernel\n",
    "from sklearn.metrics import mean_absolute_error, mean_squared_error"
   ]
  },
  {
   "cell_type": "code",
   "execution_count": 3,
   "metadata": {},
   "outputs": [
    {
     "name": "stderr",
     "output_type": "stream",
     "text": [
      "/var/folders/1m/qt1qgmf14_gb0hy_4g7323hc0000gn/T/ipykernel_42030/4043715517.py:8: FutureWarning: 'H' is deprecated and will be removed in a future version, please use 'h' instead.\n",
      "  df = df.asfreq('H')  # ensure a regular hourly index\n"
     ]
    }
   ],
   "source": [
    "# 1. LOAD THE CSV AND PREPARE TIMESTAMP INDEX\n",
    "df = pd.read_csv(\n",
    "    './data/renewables/pv_with_weather_data.csv',\n",
    "    comment='#',\n",
    "    parse_dates=['time'],\n",
    "    index_col='time'\n",
    ")\n",
    "df = df.asfreq('H')  # ensure a regular hourly index\n",
    "\n",
    "# Keep only the PV (\"electricity\") column as our target\n",
    "df = df[['electricity']].rename(columns={'electricity': 'pv'})"
   ]
  },
  {
   "cell_type": "code",
   "execution_count": 4,
   "metadata": {},
   "outputs": [],
   "source": [
    "# 2. DEFINE TRAIN/TEST SPLIT (last calendar year 2024 is test)\n",
    "train_end = pd.Timestamp('2023-12-31 23:00:00')\n",
    "test_start = train_end + pd.Timedelta(hours=1)\n",
    "\n",
    "df_train = df.loc[:train_end]\n",
    "df_test  = df.loc[test_start:]"
   ]
  },
  {
   "cell_type": "code",
   "execution_count": 5,
   "metadata": {},
   "outputs": [],
   "source": [
    "# 3. ENCODE \"TIME\" AS A 1D NUMERIC ARRAY\n",
    "#    We will simply assign an integer t_i for each hour in chronological order.\n",
    "#    This is what the GP will use as its \"X\" input.\n",
    "t_all = np.arange(len(df))                # 0,1,2,... for every hour in full dataset\n",
    "t_train = t_all[:len(df_train)].reshape(-1, 1)\n",
    "t_test  = t_all[len(df_train): ].reshape(-1, 1)\n",
    "\n",
    "y_train = df_train['pv'].values\n",
    "y_test  = df_test['pv'].values"
   ]
  },
  {
   "cell_type": "code",
   "execution_count": 6,
   "metadata": {},
   "outputs": [],
   "source": [
    "# 4. CHOOSE A KERNEL: (ExpSineSquared × RBF) + WhiteKernel\n",
    "#    - ExpSineSquared for strict 24h periodicity\n",
    "#    - RBF to allow the daily‐cycle amplitude/phase to drift slowly\n",
    "#    - WhiteKernel to absorb observation noise\n",
    "k_periodic = ExpSineSquared(length_scale=1.0, periodicity=24.0)\n",
    "k_rbf      = RBF(length_scale=24.0 * 30.0)       # one‐month‐scale drift\n",
    "k_noise    = WhiteKernel(noise_level=1e-2)       \n",
    "\n",
    "kernel = (k_periodic * k_rbf) + k_noise"
   ]
  },
  {
   "cell_type": "code",
   "execution_count": 7,
   "metadata": {},
   "outputs": [
    {
     "ename": "",
     "evalue": "",
     "output_type": "error",
     "traceback": [
      "\u001b[1;31mThe Kernel crashed while executing code in the current cell or a previous cell. \n",
      "\u001b[1;31mPlease review the code in the cell(s) to identify a possible cause of the failure. \n",
      "\u001b[1;31mClick <a href='https://aka.ms/vscodeJupyterKernelCrash'>here</a> for more info. \n",
      "\u001b[1;31mView Jupyter <a href='command:jupyter.viewOutput'>log</a> for further details."
     ]
    }
   ],
   "source": [
    "# 5. INSTANTIATE & FIT THE GP REGRESSOR\n",
    "gp = GaussianProcessRegressor(\n",
    "    kernel=kernel,\n",
    "    normalize_y=True,             # zero‐center & scale the target\n",
    "    n_restarts_optimizer=10,      # try multiple initializations\n",
    "    random_state=0\n",
    ")\n",
    "gp.fit(t_train, y_train)"
   ]
  },
  {
   "cell_type": "code",
   "execution_count": null,
   "metadata": {},
   "outputs": [],
   "source": [
    "# 6. FORECASTING: MAKE PREDICTIONS ON df_test\n",
    "#    We want to extract forecasts (mean + uncertainty) for specific dates:\n",
    "target_dates = ['2024-01-01', '2024-01-08', '2024-01-31']\n",
    "\n",
    "# Pre‐allocate a DataFrame to hold MAE/RMSE results\n",
    "results = []\n",
    "\n",
    "for date_str in target_dates:\n",
    "    # a) Build a 24‐hour range for that date, at hourly resolution\n",
    "    day_start = pd.Timestamp(date_str + ' 00:00:00')\n",
    "    day_end   = pd.Timestamp(date_str + ' 23:00:00')\n",
    "    idx_range = pd.date_range(day_start, day_end, freq='H')\n",
    "\n",
    "    # b) Convert those timestamps to the same integer‐hour index as t_all\n",
    "    #    We can look them up by .get_loc on df.index\n",
    "    try:\n",
    "        positions = [df.index.get_loc(ts) for ts in idx_range]\n",
    "    except KeyError:\n",
    "        # If any of the 24h are missing, skip that day\n",
    "        print(f\"  → {date_str} missing from index, skipping.\")\n",
    "        continue\n",
    "\n",
    "    t_day = np.array(positions).reshape(-1, 1)         # shape (24,1)\n",
    "    y_day_actual = df.loc[idx_range, 'pv'].values     # actual PV values for the day\n",
    "\n",
    "    # c) GP prediction: mean + standard deviation\n",
    "    y_day_pred, y_std = gp.predict(t_day, return_std=True)\n",
    "    #    (y_std is the per‐hour 1σ for that forecast)\n",
    "\n",
    "    # d) Compute daily metrics: MAE and RMSE for those 24 points\n",
    "    mae_day  = mean_absolute_error(y_day_actual, y_day_pred)\n",
    "    rmse_day = np.sqrt(mean_squared_error(y_day_actual, y_day_pred))\n",
    "\n",
    "    results.append({\n",
    "        'date' : date_str,\n",
    "        'MAE'  : mae_day,\n",
    "        'RMSE': rmse_day\n",
    "    })\n",
    "\n",
    "    # e) Optionally, plot that day's actual vs. predicted + ±1.96σ\n",
    "    plt.figure(figsize=(8, 3))\n",
    "    plt.plot(idx_range, y_day_actual, 'k-', label='Actual PV')\n",
    "    plt.plot(idx_range, y_day_pred,   'r-', label='GP Mean')\n",
    "    upper = y_day_pred + 1.96*y_std\n",
    "    lower = y_day_pred - 1.96*y_std\n",
    "    plt.fill_between(idx_range, lower, upper, color='r', alpha=0.2, label='95% CI')\n",
    "    plt.title(f\"GP Forecast on {date_str}\")\n",
    "    plt.xlabel('Time (Hourly)')\n",
    "    plt.ylabel('PV Output (kW)')\n",
    "    plt.xticks(rotation=45)\n",
    "    plt.legend(fontsize=9)\n",
    "    plt.tight_layout()\n",
    "    plt.show()"
   ]
  }
 ],
 "metadata": {
  "kernelspec": {
   "display_name": "vt2-optimization-datamodels-NPqtCblQ-py3.10",
   "language": "python",
   "name": "python3"
  },
  "language_info": {
   "codemirror_mode": {
    "name": "ipython",
    "version": 3
   },
   "file_extension": ".py",
   "mimetype": "text/x-python",
   "name": "python",
   "nbconvert_exporter": "python",
   "pygments_lexer": "ipython3",
   "version": "3.10.12"
  }
 },
 "nbformat": 4,
 "nbformat_minor": 2
}
